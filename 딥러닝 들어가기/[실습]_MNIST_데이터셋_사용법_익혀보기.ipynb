{
  "nbformat": 4,
  "nbformat_minor": 0,
  "metadata": {
    "colab": {
      "name": "[실습] MNIST 데이터셋 사용법 익혀보기.ipynb",
      "provenance": []
    },
    "kernelspec": {
      "name": "python3",
      "display_name": "Python 3"
    },
    "language_info": {
      "name": "python"
    }
  },
  "cells": [
    {
      "cell_type": "markdown",
      "source": [
        "# Basic MNIST Usage"
      ],
      "metadata": {
        "id": "hni_m5DX51QQ"
      }
    },
    {
      "cell_type": "code",
      "execution_count": 1,
      "metadata": {
        "colab": {
          "base_uri": "https://localhost:8080/"
        },
        "id": "wZYr351t4Mxf",
        "outputId": "294abc19-84d3-47b2-cd0f-60cf55ccfd10"
      },
      "outputs": [
        {
          "output_type": "stream",
          "name": "stdout",
          "text": [
            "Tensorflow version is [2.8.2]\n"
          ]
        }
      ],
      "source": [
        "import numpy as np\n",
        "import tensorflow as tf\n",
        "import matplotlib.pyplot as plt\n",
        "%matplotlib inline\n",
        "print(\"Tensorflow version is [%s]\" % (tf.__version__))"
      ]
    },
    {
      "cell_type": "markdown",
      "source": [
        "## Download MNIST"
      ],
      "metadata": {
        "id": "Ipy-TEdp6fO7"
      }
    },
    {
      "cell_type": "code",
      "source": [
        "mnist = tf.keras.datasets.mnist\n",
        "\n",
        "(x_train, y_train), (x_test, y_test) = mnist.load_data()\n",
        "x_train, x_test = x_train / 255.0, x_test / 255.0"
      ],
      "metadata": {
        "id": "28B9TU144QRB"
      },
      "execution_count": 2,
      "outputs": []
    },
    {
      "cell_type": "markdown",
      "source": [
        "## How does it look like?"
      ],
      "metadata": {
        "id": "mwFgXDeP6oIe"
      }
    },
    {
      "cell_type": "code",
      "source": [
        "print(x_train.shape)\n",
        "print(x_test.shape)\n",
        "print(y_train.shape)\n",
        "print(y_test.shape)"
      ],
      "metadata": {
        "colab": {
          "base_uri": "https://localhost:8080/"
        },
        "id": "NNrKEZoE4QOX",
        "outputId": "1e02942e-856f-40f6-fae6-5a4c4b93698e"
      },
      "execution_count": 3,
      "outputs": [
        {
          "output_type": "stream",
          "name": "stdout",
          "text": [
            "(60000, 28, 28)\n",
            "(10000, 28, 28)\n",
            "(60000,)\n",
            "(10000,)\n"
          ]
        }
      ]
    },
    {
      "cell_type": "markdown",
      "source": [
        "## Plot train images"
      ],
      "metadata": {
        "id": "97urEnQh-Mht"
      }
    },
    {
      "cell_type": "code",
      "source": [
        "num = np.random.randint(0,10)\n",
        "img = x_train[num]\n",
        "img.shape\n",
        "\n",
        "plt.imshow(img, 'gray')\n",
        "plt.title(\"[%d] Data \" % (y_train[num]))\n",
        "plt.show()"
      ],
      "metadata": {
        "colab": {
          "base_uri": "https://localhost:8080/",
          "height": 281
        },
        "id": "D9cJCvNV4QLm",
        "outputId": "3d9a18b0-2f60-4e3a-e815-9cc0c066648c"
      },
      "execution_count": 4,
      "outputs": [
        {
          "output_type": "display_data",
          "data": {
            "text/plain": [
              "<Figure size 432x288 with 1 Axes>"
            ],
            "image/png": "[encoded data removed]"
          },
          "metadata": {
            "needs_background": "light"
          }
        }
      ]
    },
    {
      "cell_type": "markdown",
      "source": [
        "# Get Random Minibatch"
      ],
      "metadata": {
        "id": "YUWts_MMAhxu"
      }
    },
    {
      "cell_type": "markdown",
      "source": [
        "## First, Random Permute"
      ],
      "metadata": {
        "id": "eaWx0zorAmWg"
      }
    },
    {
      "cell_type": "code",
      "source": [
        "ntrain = 10\n",
        "randindices = np.random.permutation(ntrain)\n",
        "print(randindices.shape)\n",
        "print(randindices)"
      ],
      "metadata": {
        "colab": {
          "base_uri": "https://localhost:8080/"
        },
        "id": "TIiRPnwP4QJK",
        "outputId": "bac23a53-2626-4cb7-bd29-b43c5e23f2c0"
      },
      "execution_count": 5,
      "outputs": [
        {
          "output_type": "stream",
          "name": "stdout",
          "text": [
            "(10,)\n",
            "[3 5 8 7 1 6 2 4 0 9]\n"
          ]
        }
      ]
    },
    {
      "cell_type": "markdown",
      "source": [
        "## Then, Select Minibatch"
      ],
      "metadata": {
        "id": "5_D1cDcRAyRL"
      }
    },
    {
      "cell_type": "code",
      "source": [
        "ntrain = 10\n",
        "nbatch = 4\n",
        "niter = ntrain // nbatch + 1\n",
        "for i in range(niter):\n",
        "    currindices = randindices[i*nbatch:(i+1)*nbatch]\n",
        "    print (\"ITER: [%d] Batch Index : %s\" % (i, currindices))\n",
        "    print('currindices:', currindices)\n",
        "    # Get Batch\n",
        "    xbatch = x_train[currindices, :]\n",
        "    ybatch = y_train[currindices]\n",
        "    print (\" - Shape of 'xbatch' is %s\" % (xbatch.shape,))\n",
        "    print (\" - Shape of 'ybatch' is %s\" % (ybatch.shape,))"
      ],
      "metadata": {
        "colab": {
          "base_uri": "https://localhost:8080/"
        },
        "id": "-lsS1qTE4QGw",
        "outputId": "05fb40fc-a04b-4baa-8c84-92e8c0b3b429"
      },
      "execution_count": 6,
      "outputs": [
        {
          "output_type": "stream",
          "name": "stdout",
          "text": [
            "ITER: [0] Batch Index : [3 5 8 7]\n",
            "currindices: [3 5 8 7]\n",
            " - Shape of 'xbatch' is (4, 28, 28)\n",
            " - Shape of 'ybatch' is (4,)\n",
            "ITER: [1] Batch Index : [1 6 2 4]\n",
            "currindices: [1 6 2 4]\n",
            " - Shape of 'xbatch' is (4, 28, 28)\n",
            " - Shape of 'ybatch' is (4,)\n",
            "ITER: [2] Batch Index : [0 9]\n",
            "currindices: [0 9]\n",
            " - Shape of 'xbatch' is (2, 28, 28)\n",
            " - Shape of 'ybatch' is (2,)\n"
          ]
        }
      ]
    },
    {
      "cell_type": "code",
      "source": [
        ""
      ],
      "metadata": {
        "id": "yXIKFv-y4P3r"
      },
      "execution_count": 6,
      "outputs": []
    }
  ]
}