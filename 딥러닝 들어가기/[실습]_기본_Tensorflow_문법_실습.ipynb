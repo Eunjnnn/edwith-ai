{
  "nbformat": 4,
  "nbformat_minor": 0,
  "metadata": {
    "colab": {
      "name": "[실습] 기본 Tensorflow 문법 실습.ipynb",
      "provenance": []
    },
    "kernelspec": {
      "name": "python3",
      "display_name": "Python 3"
    },
    "language_info": {
      "name": "python"
    }
  },
  "cells": [
    {
      "cell_type": "markdown",
      "source": [
        "# Basic Tensorflow usage"
      ],
      "metadata": {
        "id": "yC2Fexh9IPnd"
      }
    },
    {
      "cell_type": "markdown",
      "source": [
        "## Load Package"
      ],
      "metadata": {
        "id": "-db3QgafIV5h"
      }
    },
    {
      "cell_type": "code",
      "execution_count": 1,
      "metadata": {
        "colab": {
          "base_uri": "https://localhost:8080/"
        },
        "id": "juiQVItMIJgf",
        "outputId": "3e9cd0f5-1ba3-4619-c147-b3176ed6cf6b"
      },
      "outputs": [
        {
          "output_type": "stream",
          "name": "stdout",
          "text": [
            "WARNING:tensorflow:From /usr/local/lib/python3.7/dist-packages/tensorflow/python/compat/v2_compat.py:107: disable_resource_variables (from tensorflow.python.ops.variable_scope) is deprecated and will be removed in a future version.\n",
            "Instructions for updating:\n",
            "non-resource variables are not supported in the long term\n",
            "Package Load\n",
            "Current TF version is 2.8.2\n"
          ]
        }
      ],
      "source": [
        "import numpy as np\n",
        "import tensorflow as tf\n",
        "import tensorflow.compat.v1 as tf\n",
        "tf.disable_v2_behavior()\n",
        "print(\"Package Load\")\n",
        "print(\"Current TF version is %s\" % (tf.__version__))"
      ]
    },
    {
      "cell_type": "markdown",
      "source": [
        ""
      ],
      "metadata": {
        "id": "baWWVHKMK2Cy"
      }
    },
    {
      "cell_type": "code",
      "source": [
        "sess = tf.Session()\n",
        "print (\"OPEN SESSION\")"
      ],
      "metadata": {
        "colab": {
          "base_uri": "https://localhost:8080/"
        },
        "id": "1XavJZyOK2fb",
        "outputId": "8d2f8cea-ae90-4f9d-d5a3-a18f505e64ac"
      },
      "execution_count": 2,
      "outputs": [
        {
          "output_type": "stream",
          "name": "stdout",
          "text": [
            "OPEN SESSION\n"
          ]
        }
      ]
    },
    {
      "cell_type": "markdown",
      "source": [
        "## TF Constant"
      ],
      "metadata": {
        "id": "7pzRLPBCJm89"
      }
    },
    {
      "cell_type": "code",
      "source": [
        "def print_tf(x):\n",
        "  print(\"Type is\\n %s\" % (type(x)))\n",
        "  print(\"Value is\\n %s\" % (x))\n",
        "\n",
        "hello = tf.constant(\"Hello, It's me!\")\n",
        "print_tf(hello)"
      ],
      "metadata": {
        "colab": {
          "base_uri": "https://localhost:8080/"
        },
        "id": "jm45EQpZIVXU",
        "outputId": "1cb5f614-e883-43cc-b2b6-8a02c9dbfa29"
      },
      "execution_count": 3,
      "outputs": [
        {
          "output_type": "stream",
          "name": "stdout",
          "text": [
            "Type is\n",
            " <class 'tensorflow.python.framework.ops.Tensor'>\n",
            "Value is\n",
            " Tensor(\"Const:0\", shape=(), dtype=string)\n"
          ]
        }
      ]
    },
    {
      "cell_type": "markdown",
      "source": [
        "## To make things happen"
      ],
      "metadata": {
        "id": "lbR9UMB-J__I"
      }
    },
    {
      "cell_type": "code",
      "source": [
        "hello_out = sess.run(hello)\n",
        "print_tf(hello_out)"
      ],
      "metadata": {
        "colab": {
          "base_uri": "https://localhost:8080/"
        },
        "id": "TJY-ZOwiIVUz",
        "outputId": "c93ade54-b9b8-491c-d4ee-ac3c4a78944e"
      },
      "execution_count": 4,
      "outputs": [
        {
          "output_type": "stream",
          "name": "stdout",
          "text": [
            "Type is\n",
            " <class 'bytes'>\n",
            "Value is\n",
            " b\"Hello, It's me!\"\n"
          ]
        }
      ]
    },
    {
      "cell_type": "code",
      "source": [
        "# OTHER TYPES OF CONSTANT \n",
        "a = tf.constant(1.5)\n",
        "b = tf.constant(2.5)\n",
        "print_tf(a)\n",
        "print_tf(b)\n",
        "\n",
        "# AGAIN, RUN \n",
        "a_out = sess.run(a)\n",
        "b_out = sess.run(b)\n",
        "print_tf(a_out)\n",
        "print_tf(b_out)"
      ],
      "metadata": {
        "colab": {
          "base_uri": "https://localhost:8080/"
        },
        "id": "Q4Bx5IfHIVSZ",
        "outputId": "c29d0845-2e26-4282-e2d0-3274f63f9966"
      },
      "execution_count": 5,
      "outputs": [
        {
          "output_type": "stream",
          "name": "stdout",
          "text": [
            "Type is\n",
            " <class 'tensorflow.python.framework.ops.Tensor'>\n",
            "Value is\n",
            " Tensor(\"Const_1:0\", shape=(), dtype=float32)\n",
            "Type is\n",
            " <class 'tensorflow.python.framework.ops.Tensor'>\n",
            "Value is\n",
            " Tensor(\"Const_2:0\", shape=(), dtype=float32)\n",
            "Type is\n",
            " <class 'numpy.float32'>\n",
            "Value is\n",
            " 1.5\n",
            "Type is\n",
            " <class 'numpy.float32'>\n",
            "Value is\n",
            " 2.5\n"
          ]
        }
      ]
    },
    {
      "cell_type": "markdown",
      "source": [
        "## Operators with fixed inputs"
      ],
      "metadata": {
        "id": "BFvGGgD_LvHW"
      }
    },
    {
      "cell_type": "code",
      "source": [
        "a_sum_b = tf.add(a, b)\n",
        "print_tf(a_sum_b)\n",
        "\n",
        "# Run operator\n",
        "a_sum_b_out = sess.run(a_sum_b)\n",
        "print_tf(a_sum_b_out)\n",
        "\n",
        "a_mul_b = tf.multiply(a, b)\n",
        "a_mul_b_out = sess.run(a_mul_b)\n",
        "print_tf(a_mul_b_out)"
      ],
      "metadata": {
        "colab": {
          "base_uri": "https://localhost:8080/"
        },
        "id": "Vn358yRTIVP-",
        "outputId": "dfd3a86f-b17f-457c-f9b3-824b675f1ef4"
      },
      "execution_count": 6,
      "outputs": [
        {
          "output_type": "stream",
          "name": "stdout",
          "text": [
            "Type is\n",
            " <class 'tensorflow.python.framework.ops.Tensor'>\n",
            "Value is\n",
            " Tensor(\"Add:0\", shape=(), dtype=float32)\n",
            "Type is\n",
            " <class 'numpy.float32'>\n",
            "Value is\n",
            " 4.0\n",
            "Type is\n",
            " <class 'numpy.float32'>\n",
            "Value is\n",
            " 3.75\n"
          ]
        }
      ]
    },
    {
      "cell_type": "markdown",
      "source": [
        "## Variables"
      ],
      "metadata": {
        "id": "TSw9JZ2jMJD7"
      }
    },
    {
      "cell_type": "code",
      "source": [
        "weight = tf.Variable(tf.random_normal([5, 2], stddev=0.1))\n",
        "print_tf(weight)"
      ],
      "metadata": {
        "colab": {
          "base_uri": "https://localhost:8080/"
        },
        "id": "OrAwc51OIVNc",
        "outputId": "da739ae4-e688-4f02-9f67-140e7a2caa17"
      },
      "execution_count": 7,
      "outputs": [
        {
          "output_type": "stream",
          "name": "stdout",
          "text": [
            "Type is\n",
            " <class 'tensorflow.python.ops.variables.RefVariable'>\n",
            "Value is\n",
            " <tf.Variable 'Variable:0' shape=(5, 2) dtype=float32_ref>\n"
          ]
        }
      ]
    },
    {
      "cell_type": "code",
      "source": [
        "# Get values?\n",
        "weight_out = sess.run(weight)\n",
        "print_tf(weight_out)"
      ],
      "metadata": {
        "colab": {
          "base_uri": "https://localhost:8080/",
          "height": 550
        },
        "id": "ATAsxJJXIVLC",
        "outputId": "602d6052-5e42-4ce8-b805-bc40ebd47868"
      },
      "execution_count": 8,
      "outputs": [
        {
          "output_type": "error",
          "ename": "FailedPreconditionError",
          "evalue": "ignored",
          "traceback": [
            "\u001b[0;31m---------------------------------------------------------------------------\u001b[0m",
            "\u001b[0;31mFailedPreconditionError\u001b[0m                   Traceback (most recent call last)",
            "\u001b[0;32m/usr/local/lib/python3.7/dist-packages/tensorflow/python/client/session.py\u001b[0m in \u001b[0;36m_do_call\u001b[0;34m(self, fn, *args)\u001b[0m\n\u001b[1;32m   1376\u001b[0m     \u001b[0;32mtry\u001b[0m\u001b[0;34m:\u001b[0m\u001b[0;34m\u001b[0m\u001b[0;34m\u001b[0m\u001b[0m\n\u001b[0;32m-> 1377\u001b[0;31m       \u001b[0;32mreturn\u001b[0m \u001b[0mfn\u001b[0m\u001b[0;34m(\u001b[0m\u001b[0;34m*\u001b[0m\u001b[0margs\u001b[0m\u001b[0;34m)\u001b[0m\u001b[0;34m\u001b[0m\u001b[0;34m\u001b[0m\u001b[0m\n\u001b[0m\u001b[1;32m   1378\u001b[0m     \u001b[0;32mexcept\u001b[0m \u001b[0merrors\u001b[0m\u001b[0;34m.\u001b[0m\u001b[0mOpError\u001b[0m \u001b[0;32mas\u001b[0m \u001b[0me\u001b[0m\u001b[0;34m:\u001b[0m\u001b[0;34m\u001b[0m\u001b[0;34m\u001b[0m\u001b[0m\n",
            "\u001b[0;32m/usr/local/lib/python3.7/dist-packages/tensorflow/python/client/session.py\u001b[0m in \u001b[0;36m_run_fn\u001b[0;34m(feed_dict, fetch_list, target_list, options, run_metadata)\u001b[0m\n\u001b[1;32m   1360\u001b[0m       return self._call_tf_sessionrun(options, feed_dict, fetch_list,\n\u001b[0;32m-> 1361\u001b[0;31m                                       target_list, run_metadata)\n\u001b[0m\u001b[1;32m   1362\u001b[0m \u001b[0;34m\u001b[0m\u001b[0m\n",
            "\u001b[0;32m/usr/local/lib/python3.7/dist-packages/tensorflow/python/client/session.py\u001b[0m in \u001b[0;36m_call_tf_sessionrun\u001b[0;34m(self, options, feed_dict, fetch_list, target_list, run_metadata)\u001b[0m\n\u001b[1;32m   1454\u001b[0m                                             \u001b[0mfetch_list\u001b[0m\u001b[0;34m,\u001b[0m \u001b[0mtarget_list\u001b[0m\u001b[0;34m,\u001b[0m\u001b[0;34m\u001b[0m\u001b[0;34m\u001b[0m\u001b[0m\n\u001b[0;32m-> 1455\u001b[0;31m                                             run_metadata)\n\u001b[0m\u001b[1;32m   1456\u001b[0m \u001b[0;34m\u001b[0m\u001b[0m\n",
            "\u001b[0;31mFailedPreconditionError\u001b[0m: Attempting to use uninitialized value Variable\n\t [[{{node _retval_Variable_0_0}}]]",
            "\nDuring handling of the above exception, another exception occurred:\n",
            "\u001b[0;31mFailedPreconditionError\u001b[0m                   Traceback (most recent call last)",
            "\u001b[0;32m<ipython-input-8-532a824ec0e1>\u001b[0m in \u001b[0;36m<module>\u001b[0;34m()\u001b[0m\n\u001b[1;32m      1\u001b[0m \u001b[0;31m# Get values?\u001b[0m\u001b[0;34m\u001b[0m\u001b[0;34m\u001b[0m\u001b[0;34m\u001b[0m\u001b[0m\n\u001b[0;32m----> 2\u001b[0;31m \u001b[0mweight_out\u001b[0m \u001b[0;34m=\u001b[0m \u001b[0msess\u001b[0m\u001b[0;34m.\u001b[0m\u001b[0mrun\u001b[0m\u001b[0;34m(\u001b[0m\u001b[0mweight\u001b[0m\u001b[0;34m)\u001b[0m\u001b[0;34m\u001b[0m\u001b[0;34m\u001b[0m\u001b[0m\n\u001b[0m\u001b[1;32m      3\u001b[0m \u001b[0mprint_tf\u001b[0m\u001b[0;34m(\u001b[0m\u001b[0mweight_out\u001b[0m\u001b[0;34m)\u001b[0m\u001b[0;34m\u001b[0m\u001b[0;34m\u001b[0m\u001b[0m\n",
            "\u001b[0;32m/usr/local/lib/python3.7/dist-packages/tensorflow/python/client/session.py\u001b[0m in \u001b[0;36mrun\u001b[0;34m(self, fetches, feed_dict, options, run_metadata)\u001b[0m\n\u001b[1;32m    966\u001b[0m     \u001b[0;32mtry\u001b[0m\u001b[0;34m:\u001b[0m\u001b[0;34m\u001b[0m\u001b[0;34m\u001b[0m\u001b[0m\n\u001b[1;32m    967\u001b[0m       result = self._run(None, fetches, feed_dict, options_ptr,\n\u001b[0;32m--> 968\u001b[0;31m                          run_metadata_ptr)\n\u001b[0m\u001b[1;32m    969\u001b[0m       \u001b[0;32mif\u001b[0m \u001b[0mrun_metadata\u001b[0m\u001b[0;34m:\u001b[0m\u001b[0;34m\u001b[0m\u001b[0;34m\u001b[0m\u001b[0m\n\u001b[1;32m    970\u001b[0m         \u001b[0mproto_data\u001b[0m \u001b[0;34m=\u001b[0m \u001b[0mtf_session\u001b[0m\u001b[0;34m.\u001b[0m\u001b[0mTF_GetBuffer\u001b[0m\u001b[0;34m(\u001b[0m\u001b[0mrun_metadata_ptr\u001b[0m\u001b[0;34m)\u001b[0m\u001b[0;34m\u001b[0m\u001b[0;34m\u001b[0m\u001b[0m\n",
            "\u001b[0;32m/usr/local/lib/python3.7/dist-packages/tensorflow/python/client/session.py\u001b[0m in \u001b[0;36m_run\u001b[0;34m(self, handle, fetches, feed_dict, options, run_metadata)\u001b[0m\n\u001b[1;32m   1189\u001b[0m     \u001b[0;32mif\u001b[0m \u001b[0mfinal_fetches\u001b[0m \u001b[0;32mor\u001b[0m \u001b[0mfinal_targets\u001b[0m \u001b[0;32mor\u001b[0m \u001b[0;34m(\u001b[0m\u001b[0mhandle\u001b[0m \u001b[0;32mand\u001b[0m \u001b[0mfeed_dict_tensor\u001b[0m\u001b[0;34m)\u001b[0m\u001b[0;34m:\u001b[0m\u001b[0;34m\u001b[0m\u001b[0;34m\u001b[0m\u001b[0m\n\u001b[1;32m   1190\u001b[0m       results = self._do_run(handle, final_targets, final_fetches,\n\u001b[0;32m-> 1191\u001b[0;31m                              feed_dict_tensor, options, run_metadata)\n\u001b[0m\u001b[1;32m   1192\u001b[0m     \u001b[0;32melse\u001b[0m\u001b[0;34m:\u001b[0m\u001b[0;34m\u001b[0m\u001b[0;34m\u001b[0m\u001b[0m\n\u001b[1;32m   1193\u001b[0m       \u001b[0mresults\u001b[0m \u001b[0;34m=\u001b[0m \u001b[0;34m[\u001b[0m\u001b[0;34m]\u001b[0m\u001b[0;34m\u001b[0m\u001b[0;34m\u001b[0m\u001b[0m\n",
            "\u001b[0;32m/usr/local/lib/python3.7/dist-packages/tensorflow/python/client/session.py\u001b[0m in \u001b[0;36m_do_run\u001b[0;34m(self, handle, target_list, fetch_list, feed_dict, options, run_metadata)\u001b[0m\n\u001b[1;32m   1369\u001b[0m     \u001b[0;32mif\u001b[0m \u001b[0mhandle\u001b[0m \u001b[0;32mis\u001b[0m \u001b[0;32mNone\u001b[0m\u001b[0;34m:\u001b[0m\u001b[0;34m\u001b[0m\u001b[0;34m\u001b[0m\u001b[0m\n\u001b[1;32m   1370\u001b[0m       return self._do_call(_run_fn, feeds, fetches, targets, options,\n\u001b[0;32m-> 1371\u001b[0;31m                            run_metadata)\n\u001b[0m\u001b[1;32m   1372\u001b[0m     \u001b[0;32melse\u001b[0m\u001b[0;34m:\u001b[0m\u001b[0;34m\u001b[0m\u001b[0;34m\u001b[0m\u001b[0m\n\u001b[1;32m   1373\u001b[0m       \u001b[0;32mreturn\u001b[0m \u001b[0mself\u001b[0m\u001b[0;34m.\u001b[0m\u001b[0m_do_call\u001b[0m\u001b[0;34m(\u001b[0m\u001b[0m_prun_fn\u001b[0m\u001b[0;34m,\u001b[0m \u001b[0mhandle\u001b[0m\u001b[0;34m,\u001b[0m \u001b[0mfeeds\u001b[0m\u001b[0;34m,\u001b[0m \u001b[0mfetches\u001b[0m\u001b[0;34m)\u001b[0m\u001b[0;34m\u001b[0m\u001b[0;34m\u001b[0m\u001b[0m\n",
            "\u001b[0;32m/usr/local/lib/python3.7/dist-packages/tensorflow/python/client/session.py\u001b[0m in \u001b[0;36m_do_call\u001b[0;34m(self, fn, *args)\u001b[0m\n\u001b[1;32m   1394\u001b[0m                     \u001b[0;34m'\\nsession_config.graph_options.rewrite_options.'\u001b[0m\u001b[0;34m\u001b[0m\u001b[0;34m\u001b[0m\u001b[0m\n\u001b[1;32m   1395\u001b[0m                     'disable_meta_optimizer = True')\n\u001b[0;32m-> 1396\u001b[0;31m       \u001b[0;32mraise\u001b[0m \u001b[0mtype\u001b[0m\u001b[0;34m(\u001b[0m\u001b[0me\u001b[0m\u001b[0;34m)\u001b[0m\u001b[0;34m(\u001b[0m\u001b[0mnode_def\u001b[0m\u001b[0;34m,\u001b[0m \u001b[0mop\u001b[0m\u001b[0;34m,\u001b[0m \u001b[0mmessage\u001b[0m\u001b[0;34m)\u001b[0m  \u001b[0;31m# pylint: disable=no-value-for-parameter\u001b[0m\u001b[0;34m\u001b[0m\u001b[0;34m\u001b[0m\u001b[0m\n\u001b[0m\u001b[1;32m   1397\u001b[0m \u001b[0;34m\u001b[0m\u001b[0m\n\u001b[1;32m   1398\u001b[0m   \u001b[0;32mdef\u001b[0m \u001b[0m_extend_graph\u001b[0m\u001b[0;34m(\u001b[0m\u001b[0mself\u001b[0m\u001b[0;34m)\u001b[0m\u001b[0;34m:\u001b[0m\u001b[0;34m\u001b[0m\u001b[0;34m\u001b[0m\u001b[0m\n",
            "\u001b[0;31mFailedPreconditionError\u001b[0m: Graph execution error:\n\nAttempting to use uninitialized value Variable\n\t [[{{node _retval_Variable_0_0}}]]"
          ]
        }
      ]
    },
    {
      "cell_type": "markdown",
      "source": [
        "## Why does this error occurs?\n",
        "variable은 초기화를 해줘야 한다."
      ],
      "metadata": {
        "id": "ZHFqCYhKMniA"
      }
    },
    {
      "cell_type": "code",
      "source": [
        "# Initialization is required\n",
        "init = tf.global_variables_initializer()\n",
        "sess.run(init)\n",
        "print(\"Initializing all variables\")"
      ],
      "metadata": {
        "colab": {
          "base_uri": "https://localhost:8080/"
        },
        "id": "Rp5xt7WkIVIa",
        "outputId": "69c4debf-0521-4700-c4fe-d1d5c2b127d0"
      },
      "execution_count": 9,
      "outputs": [
        {
          "output_type": "stream",
          "name": "stdout",
          "text": [
            "Initializing all variables\n"
          ]
        }
      ]
    },
    {
      "cell_type": "code",
      "source": [
        "# Once Initialized\n",
        "weight_out = sess.run(weight)\n",
        "print_tf(weight_out)"
      ],
      "metadata": {
        "colab": {
          "base_uri": "https://localhost:8080/"
        },
        "id": "kbbMS0ebNBZb",
        "outputId": "16ae52a4-1ed8-45f3-8f53-1faa9bcaea4c"
      },
      "execution_count": 10,
      "outputs": [
        {
          "output_type": "stream",
          "name": "stdout",
          "text": [
            "Type is\n",
            " <class 'numpy.ndarray'>\n",
            "Value is\n",
            " [[-0.00098458  0.16154332]\n",
            " [ 0.00260623  0.06934891]\n",
            " [-0.07952572 -0.09705009]\n",
            " [-0.04178767  0.01642416]\n",
            " [-0.1539734  -0.02469846]]\n"
          ]
        }
      ]
    },
    {
      "cell_type": "markdown",
      "source": [
        "## Placeholders"
      ],
      "metadata": {
        "id": "BvdTNMZINXcM"
      }
    },
    {
      "cell_type": "code",
      "source": [
        "x = tf.placeholder(tf.float32, [None, 5])\n",
        "print_tf(x)"
      ],
      "metadata": {
        "colab": {
          "base_uri": "https://localhost:8080/"
        },
        "id": "P03cEApFNBXP",
        "outputId": "5fc2a910-2d67-4507-faa0-72c17dbbec88"
      },
      "execution_count": 11,
      "outputs": [
        {
          "output_type": "stream",
          "name": "stdout",
          "text": [
            "Type is\n",
            " <class 'tensorflow.python.framework.ops.Tensor'>\n",
            "Value is\n",
            " Tensor(\"Placeholder:0\", shape=(?, 5), dtype=float32)\n"
          ]
        }
      ]
    },
    {
      "cell_type": "code",
      "source": [
        "# Operation with placeholders and variables\n",
        "oper = tf.matmul(x, weight)\n",
        "print_tf(oper)"
      ],
      "metadata": {
        "colab": {
          "base_uri": "https://localhost:8080/"
        },
        "id": "vfllQZrHNBUt",
        "outputId": "3b81f946-f540-4b2c-bacc-193d17f537e8"
      },
      "execution_count": 12,
      "outputs": [
        {
          "output_type": "stream",
          "name": "stdout",
          "text": [
            "Type is\n",
            " <class 'tensorflow.python.framework.ops.Tensor'>\n",
            "Value is\n",
            " Tensor(\"MatMul:0\", shape=(?, 2), dtype=float32)\n"
          ]
        }
      ]
    },
    {
      "cell_type": "code",
      "source": [
        "# fedd_dict placeholder\n",
        "data = np.random.rand(1, 5)\n",
        "oper_out = sess.run(oper, feed_dict={x : data})\n",
        "print_tf(oper_out)"
      ],
      "metadata": {
        "colab": {
          "base_uri": "https://localhost:8080/"
        },
        "id": "EWdS20JbNBSL",
        "outputId": "85f6b121-1f28-4b07-bbf6-390168cefdcb"
      },
      "execution_count": 13,
      "outputs": [
        {
          "output_type": "stream",
          "name": "stdout",
          "text": [
            "Type is\n",
            " <class 'numpy.ndarray'>\n",
            "Value is\n",
            " [[-0.11275319 -0.01511847]]\n"
          ]
        }
      ]
    },
    {
      "cell_type": "code",
      "source": [
        "# Batchsize can vary\n",
        "data = np.random.rand(10, 5)\n",
        "oper_out = sess.run(oper, feed_dict={x : data})\n",
        "print_tf(oper_out)"
      ],
      "metadata": {
        "colab": {
          "base_uri": "https://localhost:8080/"
        },
        "id": "89BACIHtNBPw",
        "outputId": "667b8b5b-5c29-4c0b-82e5-0f8288e42656"
      },
      "execution_count": 14,
      "outputs": [
        {
          "output_type": "stream",
          "name": "stdout",
          "text": [
            "Type is\n",
            " <class 'numpy.ndarray'>\n",
            "Value is\n",
            " [[-0.19768308 -0.09314231]\n",
            " [-0.10225134  0.04645592]\n",
            " [-0.14582632  0.13860852]\n",
            " [-0.15812705 -0.01984659]\n",
            " [-0.08958057  0.03336663]\n",
            " [-0.18244025  0.14813402]\n",
            " [-0.13203225  0.04146337]\n",
            " [-0.13538013  0.04094876]\n",
            " [-0.11098116  0.07583345]\n",
            " [-0.17094542  0.07582986]]\n"
          ]
        }
      ]
    },
    {
      "cell_type": "code",
      "source": [
        ""
      ],
      "metadata": {
        "id": "Ff1ZzXSKIU2g"
      },
      "execution_count": 14,
      "outputs": []
    }
  ]
}