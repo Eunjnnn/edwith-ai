{
  "nbformat": 4,
  "nbformat_minor": 0,
  "metadata": {
    "colab": {
      "name": "[실습] Custom dataset 만들어보기.ipynb",
      "provenance": []
    },
    "kernelspec": {
      "name": "python3",
      "display_name": "Python 3"
    },
    "language_info": {
      "name": "python"
    }
  },
  "cells": [
    {
      "cell_type": "markdown",
      "source": [
        "# DATASET Generation"
      ],
      "metadata": {
        "id": "ikhASgwADUou"
      }
    },
    {
      "cell_type": "code",
      "execution_count": null,
      "metadata": {
        "id": "RVAPtmtXC-YN"
      },
      "outputs": [],
      "source": [
        "import numpy as np\n",
        "import os\n",
        "from scipy.misc import imread, imresize\n",
        "import matplotlib.pyplot as plt\n",
        "%matplotlib inline  \n",
        "print (\"Package loaded\") \n",
        "cwd = os.getcwd()\n",
        "print (\"Current folder is %s\" % (cwd) )"
      ]
    },
    {
      "cell_type": "markdown",
      "source": [
        "## Specify the Folder Paths + Reshape Size + Grayscale"
      ],
      "metadata": {
        "id": "9B6cjTXpF5ng"
      }
    },
    {
      "cell_type": "code",
      "source": [
        "# Training set folder \n",
        "paths = {\"../../img_dataset/celebs/Arnold_Schwarzenegger\"\n",
        "        , \"../../img_dataset/celebs/Junichiro_Koizumi\"\n",
        "        , \"../../img_dataset/celebs/Vladimir_Putin\"\n",
        "        , \"../../img_dataset/celebs/George_W_Bush\"}\n",
        "# The reshape size\n",
        "imgsize = [64, 64]\n",
        "# Grayscale\n",
        "use_gray = 1\n",
        "# Save name\n",
        "data_name = \"custom_data\"\n",
        "\n",
        "print (\"Your images should be at\")\n",
        "for i, path in enumerate(paths):\n",
        "    print (\" [%d/%d] %s/%s\" % (i, len(paths), cwd, path)) \n",
        "\n",
        "print (\"Data will be saved to %s\" \n",
        "       % (cwd + '/data/' + data_name + '.npz'))"
      ],
      "metadata": {
        "id": "j97Es8h2F2Ce"
      },
      "execution_count": null,
      "outputs": []
    },
    {
      "cell_type": "markdown",
      "source": [
        "## RGB 2 Gray Function"
      ],
      "metadata": {
        "id": "a6WfDUvDGGSK"
      }
    },
    {
      "cell_type": "code",
      "source": [
        "def rgb2gray(rgb):\n",
        "    if len(rgb.shape) is 3:\n",
        "        return np.dot(rgb[...,:3], [0.299, 0.587, 0.114])\n",
        "    else:\n",
        "        # print (\"Current Image if GRAY!\")\n",
        "        return rgb"
      ],
      "metadata": {
        "id": "GdFPp4MMF1_R"
      },
      "execution_count": null,
      "outputs": []
    },
    {
      "cell_type": "markdown",
      "source": [
        "## Load Images"
      ],
      "metadata": {
        "id": "Z01qqRG7GJ3G"
      }
    },
    {
      "cell_type": "code",
      "source": [
        "nclass     = len(paths)\n",
        "valid_exts = [\".jpg\",\".gif\",\".png\",\".tga\", \".jpeg\"]\n",
        "imgcnt     = 0\n",
        "for i, relpath in zip(range(nclass), paths):\n",
        "    path = cwd + \"/\" + relpath\n",
        "    flist = os.listdir(path)\n",
        "    for f in flist:\n",
        "        if os.path.splitext(f)[1].lower() not in valid_exts:\n",
        "            continue\n",
        "        fullpath = os.path.join(path, f)\n",
        "        currimg  = imread(fullpath)\n",
        "        # Convert to grayscale  \n",
        "        if use_gray:\n",
        "            grayimg  = rgb2gray(currimg)\n",
        "        else:\n",
        "            grayimg  = currimg\n",
        "        # Reshape\n",
        "        graysmall = imresize(grayimg, [imgsize[0], imgsize[1]])/255.\n",
        "        grayvec   = np.reshape(graysmall, (1, -1))\n",
        "        # Save \n",
        "        curr_label = np.eye(nclass, nclass)[i:i+1, :]\n",
        "        if imgcnt is 0:\n",
        "            totalimg   = grayvec\n",
        "            totallabel = curr_label\n",
        "        else:\n",
        "            totalimg   = np.concatenate((totalimg, grayvec), axis=0)\n",
        "            totallabel = np.concatenate((totallabel, curr_label), axis=0)\n",
        "        imgcnt    = imgcnt + 1\n",
        "print (\"Total %d images loaded.\" % (imgcnt))"
      ],
      "metadata": {
        "id": "nwhFSaJxGIzO"
      },
      "execution_count": null,
      "outputs": []
    },
    {
      "cell_type": "markdown",
      "source": [
        "## Divide total data into Training and Test Set"
      ],
      "metadata": {
        "id": "iPjdrXiyGNmS"
      }
    },
    {
      "cell_type": "code",
      "source": [
        "def print_shape(string, x):\n",
        "    print (\"Shape of '%s' is %s\" % (string, x.shape,))\n",
        "    \n",
        "randidx    = np.random.randint(imgcnt, size=imgcnt)\n",
        "trainidx   = randidx[0:int(3*imgcnt/5)]\n",
        "testidx    = randidx[int(3*imgcnt/5):imgcnt]\n",
        "trainimg   = totalimg[trainidx, :]\n",
        "trainlabel = totallabel[trainidx, :]\n",
        "testimg    = totalimg[testidx, :]\n",
        "testlabel  = totallabel[testidx, :]\n",
        "print_shape(\"trainimg\", trainimg)\n",
        "print_shape(\"trainlabel\", trainlabel)\n",
        "print_shape(\"testimg\", testimg)\n",
        "print_shape(\"testlabel\", testlabel)"
      ],
      "metadata": {
        "id": "f4_fbBtYF182"
      },
      "execution_count": null,
      "outputs": []
    },
    {
      "cell_type": "markdown",
      "source": [
        "## Save to npz"
      ],
      "metadata": {
        "id": "Nq2dq7FRGUDb"
      }
    },
    {
      "cell_type": "code",
      "source": [
        "savepath = cwd + \"/data/\" + data_name + \".npz\"\n",
        "np.savez(savepath, trainimg=trainimg, trainlabel=trainlabel\n",
        "         , testimg=testimg, testlabel=testlabel, imgsize=imgsize, use_gray=use_gray)\n",
        "print (\"Saved to %s\" % (savepath))"
      ],
      "metadata": {
        "id": "8piE2HS1F16E"
      },
      "execution_count": null,
      "outputs": []
    },
    {
      "cell_type": "markdown",
      "source": [
        "## CHECK!"
      ],
      "metadata": {
        "id": "FxYS3qnCGX4J"
      }
    },
    {
      "cell_type": "code",
      "source": [
        "# Load them!\n",
        "cwd = os.getcwd()\n",
        "loadpath = cwd + \"/data/\" + data_name + \".npz\"\n",
        "l = np.load(loadpath)\n",
        "\n",
        "# See what's in here\n",
        "l.files\n",
        "\n",
        "# Parse data\n",
        "trainimg_loaded = l['trainimg']\n",
        "trainlabel_loaded = l['trainlabel']\n",
        "testimg_loaded = l['testimg']\n",
        "testlabel_loaded = l['testlabel']\n",
        "\n",
        "print (\"%d train images loaded\" % (trainimg_loaded.shape[0]))\n",
        "print (\"%d test images loaded\" % (testimg_loaded.shape[0]))\n",
        "print (\"Loaded from to %s\" % (savepath))\n"
      ],
      "metadata": {
        "id": "vNsHsWV8F13e"
      },
      "execution_count": null,
      "outputs": []
    },
    {
      "cell_type": "markdown",
      "source": [
        "## Plot Train images"
      ],
      "metadata": {
        "id": "xwJ8RMtdGawE"
      }
    },
    {
      "cell_type": "code",
      "source": [
        "ntrain_loaded = trainimg_loaded.shape[0]\n",
        "batch_size = 10;\n",
        "randidx = np.random.randint(ntrain_loaded, size=batch_size)\n",
        "for i in randidx: \n",
        "    currimg = np.reshape(trainimg_loaded[i, :], (imgsize[0], -1))\n",
        "    currlabel_onehot = trainlabel_loaded[i, :]\n",
        "    currlabel = np.argmax(currlabel_onehot) \n",
        "    if use_gray:\n",
        "        currimg = np.reshape(trainimg[i, :], (imgsize[0], -1))\n",
        "        plt.matshow(currimg, cmap=plt.get_cmap('gray'))\n",
        "        plt.colorbar()\n",
        "    else:\n",
        "        currimg = np.reshape(trainimg[i, :], (imgsize[0], imgsize[1], 3))\n",
        "        plt.imshow(currimg)\n",
        "    title_string = \"[%d] %d-class\" % (i, currlabel)\n",
        "    plt.title(title_string) \n",
        "    plt.show() "
      ],
      "metadata": {
        "id": "qf1PQzDdF10y"
      },
      "execution_count": null,
      "outputs": []
    },
    {
      "cell_type": "markdown",
      "source": [
        "## Plot Test images"
      ],
      "metadata": {
        "id": "bxS2VG9nGiA5"
      }
    },
    {
      "cell_type": "code",
      "source": [
        "# Do batch stuff using loaded data \n",
        "ntest_loaded = testimg_loaded.shape[0]\n",
        "batch_size   = 3;\n",
        "randidx      = np.random.randint(ntest_loaded, size=batch_size)\n",
        "for i in randidx: \n",
        "    currimg = np.reshape(testimg_loaded[i, :], (imgsize[0], -1))\n",
        "    currlabel_onehot = testlabel_loaded[i, :]\n",
        "    currlabel = np.argmax(currlabel_onehot) \n",
        "    \n",
        "    if use_gray:\n",
        "        currimg = np.reshape(testimg[i, :], (imgsize[0], -1))\n",
        "        plt.matshow(currimg, cmap=plt.get_cmap('gray'))\n",
        "        plt.colorbar()\n",
        "    else:\n",
        "        currimg = np.reshape(testimg[i, :], (imgsize[0], imgsize[1], 3))\n",
        "        plt.imshow(currimg)\n",
        "    title_string = \"[%d] %d-class\" % (i, currlabel)\n",
        "    plt.title(title_string) \n",
        "    plt.show() "
      ],
      "metadata": {
        "id": "4iVZtmVjGmKM"
      },
      "execution_count": null,
      "outputs": []
    }
  ]
}